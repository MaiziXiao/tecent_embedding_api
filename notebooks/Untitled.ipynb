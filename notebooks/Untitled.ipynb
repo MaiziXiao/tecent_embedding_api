{
 "cells": [
  {
   "cell_type": "code",
   "execution_count": 3,
   "metadata": {},
   "outputs": [
    {
     "name": "stderr",
     "output_type": "stream",
     "text": [
      "<ipython-input-3-309f549d1729>:7: DeprecationWarning: Call to deprecated `wv` (Attribute will be removed in 4.0.0, use self instead).\n",
      "  model_mv = model.wv\n"
     ]
    }
   ],
   "source": [
    "from gensim.models import KeyedVectors\n",
    "from google.cloud import storage\n",
    "import json\n",
    "import pickle\n",
    "\n",
    "model = KeyedVectors.load_word2vec_format(\"/home/linchenxiao/code/linchen/embedding_api/embedding_api/data/5000-small.txt\")\n",
    "model_mv = model.wv"
   ]
  },
  {
   "cell_type": "code",
   "execution_count": 6,
   "metadata": {},
   "outputs": [],
   "source": [
    "with open('embeddings.pickle', 'wb') as handle:\n",
    "    pickle.dump(model, handle, protocol=pickle.HIGHEST_PROTOCOL)"
   ]
  },
  {
   "cell_type": "code",
   "execution_count": null,
   "metadata": {},
   "outputs": [],
   "source": []
  },
  {
   "cell_type": "code",
   "execution_count": 18,
   "metadata": {},
   "outputs": [
    {
     "name": "stderr",
     "output_type": "stream",
     "text": [
      "<ipython-input-18-9c03a4261c3e>:3: DeprecationWarning: Call to deprecated `wv` (Attribute will be removed in 4.0.0, use self instead).\n",
      "  embeddings[key] = model.wv[key].tolist()\n"
     ]
    }
   ],
   "source": [
    "embeddings = dict({})\n",
    "for idx, key in enumerate(model_mv.vocab):\n",
    "    embeddings[key] = model.wv[key].tolist()"
   ]
  },
  {
   "cell_type": "code",
   "execution_count": 19,
   "metadata": {},
   "outputs": [],
   "source": [
    "# os.environ[\"GOOGLE_APPLICATION_CREDENTIALS\"]=\"/home/linchenxiao/gcp_keys/playground-linchen-2774599fb4bc.json\""
   ]
  },
  {
   "cell_type": "code",
   "execution_count": 7,
   "metadata": {},
   "outputs": [],
   "source": [
    "storage_client = storage.Client.from_service_account_json('/home/linchenxiao/gcp_keys/playground-linchen-2774599fb4bc.json')"
   ]
  },
  {
   "cell_type": "code",
   "execution_count": 8,
   "metadata": {},
   "outputs": [],
   "source": [
    "# Set our bucket \n",
    "bucket = storage_client.get_bucket(\"playground-linchen\")\n",
    "blob = bucket.blob('embeddings.json')\n",
    "# blob.upload_from_string(\n",
    "#    data=json.dumps(embeddings),\n",
    "#    content_type='application/json'\n",
    "#  )\n",
    "# convert to string\n",
    "embeddings = blob.download_as_string()"
   ]
  },
  {
   "cell_type": "code",
   "execution_count": 13,
   "metadata": {},
   "outputs": [],
   "source": [
    "import ast\n",
    "embeddings = ast.literal_eval(embeddings.decode('utf-8'))"
   ]
  },
  {
   "cell_type": "code",
   "execution_count": null,
   "metadata": {},
   "outputs": [],
   "source": []
  }
 ],
 "metadata": {
  "kernelspec": {
   "display_name": "Python 3",
   "language": "python",
   "name": "python3"
  },
  "language_info": {
   "codemirror_mode": {
    "name": "ipython",
    "version": 3
   },
   "file_extension": ".py",
   "mimetype": "text/x-python",
   "name": "python",
   "nbconvert_exporter": "python",
   "pygments_lexer": "ipython3",
   "version": "3.8.2"
  }
 },
 "nbformat": 4,
 "nbformat_minor": 4
}
